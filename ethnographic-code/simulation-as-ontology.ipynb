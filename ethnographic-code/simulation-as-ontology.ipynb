{
 "cells": [
  {
   "cell_type": "markdown",
   "metadata": {},
   "source": [
    "# Simulation as Ontological Fieldwork\n",
    "We simulate not to predict, but to inhabit. This notebook explores a simple agent-based system as a synthetic world."
   ]
  },
  {
   "cell_type": "code",
   "execution_count": null,
   "metadata": {},
   "outputs": [],
   "source": [
    "import random\n",
    "import matplotlib.pyplot as plt\n",
    "\n",
    "# Agent class\n",
    "class Walker:\n",
    "    def __init__(self):\n",
    "        self.x = 0\n",
    "        self.y = 0\n",
    "        self.path = [(0, 0)]\n",
    "    def step(self):\n",
    "        dx, dy = random.choice([(1,0), (-1,0), (0,1), (0,-1)])\n",
    "        self.x += dx\n",
    "        self.y += dy\n",
    "        self.path.append((self.x, self.y))\n",
    "\n",
    "# Simulate\n",
    "walker = Walker()\n",
    "for _ in range(100):\n",
    "    walker.step()\n",
    "\n",
    "# Plot\n",
    "xs, ys = zip(*walker.path)\n",
    "plt.plot(xs, ys, marker='o')\n",
    "plt.title('Walker Path')\n",
    "plt.xlabel('x')\n",
    "plt.ylabel('y')\n",
    "plt.grid(True)\n",
    "plt.show()"
   ]
  }
 ],
 "metadata": {
  "kernelspec": {
   "display_name": "Python 3",
   "language": "python",
   "name": "python3"
  },
  "language_info": {
   "name": "python",
   "version": "3.8"
  }
 },
 "nbformat": 4,
 "nbformat_minor": 4
}